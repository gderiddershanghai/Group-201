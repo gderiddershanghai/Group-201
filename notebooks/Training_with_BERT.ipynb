{
 "cells": [
  {
   "cell_type": "code",
   "execution_count": 1,
   "id": "dba9c1b2-b924-4a69-98e0-6285af84d6d1",
   "metadata": {},
   "outputs": [],
   "source": [
    "import pandas as pd\n",
    "import numpy as np"
   ]
  },
  {
   "cell_type": "code",
   "execution_count": 2,
   "id": "f4e05d11-8fd5-49ed-a68d-3a1f7ef240ac",
   "metadata": {},
   "outputs": [
    {
     "name": "stderr",
     "output_type": "stream",
     "text": [
      "2024-11-19 11:19:22.324122: I tensorflow/core/util/port.cc:153] oneDNN custom operations are on. You may see slightly different numerical results due to floating-point round-off errors from different computation orders. To turn them off, set the environment variable `TF_ENABLE_ONEDNN_OPTS=0`.\n",
      "2024-11-19 11:19:22.333754: E external/local_xla/xla/stream_executor/cuda/cuda_fft.cc:477] Unable to register cuFFT factory: Attempting to register factory for plugin cuFFT when one has already been registered\n",
      "WARNING: All log messages before absl::InitializeLog() is called are written to STDERR\n",
      "E0000 00:00:1731986362.346719   14999 cuda_dnn.cc:8310] Unable to register cuDNN factory: Attempting to register factory for plugin cuDNN when one has already been registered\n",
      "E0000 00:00:1731986362.350061   14999 cuda_blas.cc:1418] Unable to register cuBLAS factory: Attempting to register factory for plugin cuBLAS when one has already been registered\n",
      "2024-11-19 11:19:22.363043: I tensorflow/core/platform/cpu_feature_guard.cc:210] This TensorFlow binary is optimized to use available CPU instructions in performance-critical operations.\n",
      "To enable the following instructions: AVX2 AVX_VNNI FMA, in other operations, rebuild TensorFlow with the appropriate compiler flags.\n"
     ]
    }
   ],
   "source": [
    "%load_ext autoreload\n",
    "%autoreload 2\n",
    "\n",
    "import sys\n",
    "sys.path.append('../src')\n",
    "from features.get_bert_embeddings import BertFeatureExtractor\n"
   ]
  },
  {
   "cell_type": "code",
   "execution_count": 5,
   "id": "58d160ab-cc20-4367-aca8-eb6fb1c25804",
   "metadata": {},
   "outputs": [
    {
     "name": "stdout",
     "output_type": "stream",
     "text": [
      "train_chunked_processed.csv  train_full_processed.csv\n"
     ]
    }
   ],
   "source": [
    "!ls ../data/processed/sat_train/\n"
   ]
  },
  {
   "cell_type": "code",
   "execution_count": 66,
   "id": "cce58b12-2009-48f4-9e26-bf2788a79df4",
   "metadata": {},
   "outputs": [],
   "source": [
    "chunked_fp = '../data/processed/sat_train/train_chunked_processed.csv'\n",
    "df = pd.read_csv(chunked_fp)"
   ]
  },
  {
   "cell_type": "code",
   "execution_count": 67,
   "id": "e3f8baee-2834-4a9c-8935-db09bfbfd74a",
   "metadata": {},
   "outputs": [
    {
     "data": {
      "text/html": [
       "<div>\n",
       "<style scoped>\n",
       "    .dataframe tbody tr th:only-of-type {\n",
       "        vertical-align: middle;\n",
       "    }\n",
       "\n",
       "    .dataframe tbody tr th {\n",
       "        vertical-align: top;\n",
       "    }\n",
       "\n",
       "    .dataframe thead th {\n",
       "        text-align: right;\n",
       "    }\n",
       "</style>\n",
       "<table border=\"1\" class=\"dataframe\">\n",
       "  <thead>\n",
       "    <tr style=\"text-align: right;\">\n",
       "      <th></th>\n",
       "      <th>essay_id</th>\n",
       "      <th>essay_set</th>\n",
       "      <th>essay</th>\n",
       "      <th>rescaled_score</th>\n",
       "      <th>low_med_hi</th>\n",
       "      <th>low_med_hi_numeric</th>\n",
       "    </tr>\n",
       "  </thead>\n",
       "  <tbody>\n",
       "    <tr>\n",
       "      <th>0</th>\n",
       "      <td>10135</td>\n",
       "      <td>4</td>\n",
       "      <td>The reason why the author concludes the story ...</td>\n",
       "      <td>7.0</td>\n",
       "      <td>medium</td>\n",
       "      <td>2</td>\n",
       "    </tr>\n",
       "    <tr>\n",
       "      <th>1</th>\n",
       "      <td>4131</td>\n",
       "      <td>2</td>\n",
       "      <td>Would you censor the @CAPS1? i @CAPS2 i sure w...</td>\n",
       "      <td>4.6</td>\n",
       "      <td>low</td>\n",
       "      <td>1</td>\n",
       "    </tr>\n",
       "    <tr>\n",
       "      <th>2</th>\n",
       "      <td>4131</td>\n",
       "      <td>2</td>\n",
       "      <td>Throught out the story the @CAPS5 gives the bo...</td>\n",
       "      <td>4.6</td>\n",
       "      <td>low</td>\n",
       "      <td>1</td>\n",
       "    </tr>\n",
       "    <tr>\n",
       "      <th>3</th>\n",
       "      <td>4131</td>\n",
       "      <td>2</td>\n",
       "      <td>Why?! The @CAPS1 for example is just a book fu...</td>\n",
       "      <td>4.6</td>\n",
       "      <td>low</td>\n",
       "      <td>1</td>\n",
       "    </tr>\n",
       "    <tr>\n",
       "      <th>4</th>\n",
       "      <td>4131</td>\n",
       "      <td>2</td>\n",
       "      <td>Thanks to a close friend. @CAPS8 could also be...</td>\n",
       "      <td>4.6</td>\n",
       "      <td>low</td>\n",
       "      <td>1</td>\n",
       "    </tr>\n",
       "  </tbody>\n",
       "</table>\n",
       "</div>"
      ],
      "text/plain": [
       "   essay_id  essay_set                                              essay  \\\n",
       "0     10135          4  The reason why the author concludes the story ...   \n",
       "1      4131          2  Would you censor the @CAPS1? i @CAPS2 i sure w...   \n",
       "2      4131          2  Throught out the story the @CAPS5 gives the bo...   \n",
       "3      4131          2  Why?! The @CAPS1 for example is just a book fu...   \n",
       "4      4131          2  Thanks to a close friend. @CAPS8 could also be...   \n",
       "\n",
       "   rescaled_score low_med_hi  low_med_hi_numeric  \n",
       "0             7.0     medium                   2  \n",
       "1             4.6        low                   1  \n",
       "2             4.6        low                   1  \n",
       "3             4.6        low                   1  \n",
       "4             4.6        low                   1  "
      ]
     },
     "execution_count": 67,
     "metadata": {},
     "output_type": "execute_result"
    }
   ],
   "source": [
    "df.head()"
   ]
  },
  {
   "cell_type": "code",
   "execution_count": 68,
   "id": "ea346e0f-7b23-40ef-822d-cc482640cfad",
   "metadata": {},
   "outputs": [],
   "source": [
    "# Setting up a results df with all predictions"
   ]
  },
  {
   "cell_type": "code",
   "execution_count": 69,
   "id": "efe15106-89a3-4972-9d18-b108e13e4916",
   "metadata": {},
   "outputs": [
    {
     "data": {
      "text/plain": [
       "Index(['essay_id', 'essay_set', 'essay', 'rescaled_score', 'low_med_hi',\n",
       "       'low_med_hi_numeric'],\n",
       "      dtype='object')"
      ]
     },
     "execution_count": 69,
     "metadata": {},
     "output_type": "execute_result"
    }
   ],
   "source": [
    "df.columns"
   ]
  },
  {
   "cell_type": "code",
   "execution_count": 70,
   "id": "a6c97f0e-080e-499d-b0b4-aac46a841f11",
   "metadata": {},
   "outputs": [],
   "source": [
    "df['rounded_rescaled_score'] = df['rescaled_score'].round()"
   ]
  },
  {
   "cell_type": "code",
   "execution_count": 71,
   "id": "fe115d06-7449-4b60-bed5-e122a6699771",
   "metadata": {},
   "outputs": [],
   "source": [
    "df_results = df[['essay_id', 'essay_set', 'rescaled_score', 'low_med_hi','low_med_hi_numeric', 'rescaled_score']]"
   ]
  },
  {
   "cell_type": "markdown",
   "id": "4f345cee-13e4-4f4f-9c06-a26c3e8c0d22",
   "metadata": {},
   "source": [
    "## Setting up cross validation"
   ]
  },
  {
   "cell_type": "code",
   "execution_count": 81,
   "id": "cf20c977-4570-43a4-aae1-f99d4ef2a2fc",
   "metadata": {},
   "outputs": [
    {
     "data": {
      "text/plain": [
       "3507"
      ]
     },
     "execution_count": 81,
     "metadata": {},
     "output_type": "execute_result"
    }
   ],
   "source": [
    "n = round(df.shape[0]/5)\n",
    "n"
   ]
  },
  {
   "cell_type": "code",
   "execution_count": 95,
   "id": "9556530e-bfe5-4248-a9ea-1dee8e617456",
   "metadata": {},
   "outputs": [
    {
     "data": {
      "text/plain": [
       "array([ 3073,  4254,  3343, ...,  3159,  7266, 12438])"
      ]
     },
     "execution_count": 95,
     "metadata": {},
     "output_type": "execute_result"
    }
   ],
   "source": [
    "unique_essay_ids = df['essay_id'].value_counts().index.values\n",
    "np.random.shuffle(unique_essay_ids)\n",
    "unique_essay_ids"
   ]
  },
  {
   "cell_type": "code",
   "execution_count": 104,
   "id": "be9be3f5-c03b-401a-88e8-de21aa3fdb90",
   "metadata": {},
   "outputs": [
    {
     "data": {
      "text/plain": [
       "[array([  154,   585, 19317, ...,  3036,  6908,    42]),\n",
       " array([13344,  3659, 16542, ..., 19289, 15871,   484]),\n",
       " array([18672, 15040,  1528, ...,  9074,   333,  9833]),\n",
       " array([15955,  3464,   677, ..., 18489, 12293,  3654]),\n",
       " array([ 6200, 19028, 21415, ...,  1233, 16222, 15461])]"
      ]
     },
     "execution_count": 104,
     "metadata": {},
     "output_type": "execute_result"
    }
   ],
   "source": [
    "chunks = np.array_split(unique_essay_ids, 5)\n",
    "chunks"
   ]
  },
  {
   "cell_type": "code",
   "execution_count": 109,
   "id": "b34fe276-42d3-46be-a049-54c745daf412",
   "metadata": {},
   "outputs": [
    {
     "data": {
      "text/plain": [
       "array([    0,    11,    20, ..., 17515, 17516, 17536])"
      ]
     },
     "execution_count": 109,
     "metadata": {},
     "output_type": "execute_result"
    }
   ],
   "source": [
    "df[df['essay_id'].isin(chunks[0])].index.values"
   ]
  },
  {
   "cell_type": "code",
   "execution_count": 110,
   "id": "42bebc00-3f39-4424-94a2-32bba978f806",
   "metadata": {},
   "outputs": [],
   "source": [
    "folds = {}"
   ]
  },
  {
   "cell_type": "code",
   "execution_count": 114,
   "id": "69d101b2-c33e-47d0-9043-1745dad2396e",
   "metadata": {},
   "outputs": [],
   "source": [
    "df['chunk'] = 99"
   ]
  },
  {
   "cell_type": "code",
   "execution_count": 120,
   "id": "b2a1534a-195f-4d5f-92ea-7f195c5506ba",
   "metadata": {},
   "outputs": [],
   "source": [
    "for i,chunk in enumerate(chunks):\n",
    "    idx = df[df['essay_id'].isin(chunk)].index.values\n",
    "    df.loc[idx,'chunk']=i\n",
    "    # folds[i] = idx"
   ]
  },
  {
   "cell_type": "code",
   "execution_count": 124,
   "id": "d759ee54-6a96-46eb-a6c8-f2fff9535ed1",
   "metadata": {},
   "outputs": [],
   "source": [
    "df.drop(columns='chunl', inplace=True)"
   ]
  },
  {
   "cell_type": "code",
   "execution_count": 127,
   "id": "77882b57-e72e-456e-a0dd-39543f01b09a",
   "metadata": {},
   "outputs": [
    {
     "data": {
      "text/html": [
       "<div>\n",
       "<style scoped>\n",
       "    .dataframe tbody tr th:only-of-type {\n",
       "        vertical-align: middle;\n",
       "    }\n",
       "\n",
       "    .dataframe tbody tr th {\n",
       "        vertical-align: top;\n",
       "    }\n",
       "\n",
       "    .dataframe thead th {\n",
       "        text-align: right;\n",
       "    }\n",
       "</style>\n",
       "<table border=\"1\" class=\"dataframe\">\n",
       "  <thead>\n",
       "    <tr style=\"text-align: right;\">\n",
       "      <th></th>\n",
       "      <th>essay_id</th>\n",
       "      <th>essay_set</th>\n",
       "      <th>essay</th>\n",
       "      <th>rescaled_score</th>\n",
       "      <th>low_med_hi</th>\n",
       "      <th>low_med_hi_numeric</th>\n",
       "      <th>rounded_rescaled_score</th>\n",
       "    </tr>\n",
       "    <tr>\n",
       "      <th>chunk</th>\n",
       "      <th></th>\n",
       "      <th></th>\n",
       "      <th></th>\n",
       "      <th></th>\n",
       "      <th></th>\n",
       "      <th></th>\n",
       "      <th></th>\n",
       "    </tr>\n",
       "  </thead>\n",
       "  <tbody>\n",
       "    <tr>\n",
       "      <th>0</th>\n",
       "      <td>3465</td>\n",
       "      <td>3465</td>\n",
       "      <td>3465</td>\n",
       "      <td>3465</td>\n",
       "      <td>3465</td>\n",
       "      <td>3465</td>\n",
       "      <td>3465</td>\n",
       "    </tr>\n",
       "    <tr>\n",
       "      <th>1</th>\n",
       "      <td>3481</td>\n",
       "      <td>3481</td>\n",
       "      <td>3481</td>\n",
       "      <td>3481</td>\n",
       "      <td>3481</td>\n",
       "      <td>3481</td>\n",
       "      <td>3481</td>\n",
       "    </tr>\n",
       "    <tr>\n",
       "      <th>2</th>\n",
       "      <td>3509</td>\n",
       "      <td>3509</td>\n",
       "      <td>3509</td>\n",
       "      <td>3509</td>\n",
       "      <td>3509</td>\n",
       "      <td>3509</td>\n",
       "      <td>3509</td>\n",
       "    </tr>\n",
       "    <tr>\n",
       "      <th>3</th>\n",
       "      <td>3605</td>\n",
       "      <td>3605</td>\n",
       "      <td>3605</td>\n",
       "      <td>3605</td>\n",
       "      <td>3605</td>\n",
       "      <td>3605</td>\n",
       "      <td>3605</td>\n",
       "    </tr>\n",
       "    <tr>\n",
       "      <th>4</th>\n",
       "      <td>3477</td>\n",
       "      <td>3477</td>\n",
       "      <td>3477</td>\n",
       "      <td>3477</td>\n",
       "      <td>3477</td>\n",
       "      <td>3477</td>\n",
       "      <td>3477</td>\n",
       "    </tr>\n",
       "  </tbody>\n",
       "</table>\n",
       "</div>"
      ],
      "text/plain": [
       "       essay_id  essay_set  essay  rescaled_score  low_med_hi  \\\n",
       "chunk                                                           \n",
       "0          3465       3465   3465            3465        3465   \n",
       "1          3481       3481   3481            3481        3481   \n",
       "2          3509       3509   3509            3509        3509   \n",
       "3          3605       3605   3605            3605        3605   \n",
       "4          3477       3477   3477            3477        3477   \n",
       "\n",
       "       low_med_hi_numeric  rounded_rescaled_score  \n",
       "chunk                                              \n",
       "0                    3465                    3465  \n",
       "1                    3481                    3481  \n",
       "2                    3509                    3509  \n",
       "3                    3605                    3605  \n",
       "4                    3477                    3477  "
      ]
     },
     "execution_count": 127,
     "metadata": {},
     "output_type": "execute_result"
    }
   ],
   "source": [
    "df.groupby('chunk').count()"
   ]
  },
  {
   "cell_type": "code",
   "execution_count": 128,
   "id": "da3b43b9-fb1d-47d4-b444-0756e69a1284",
   "metadata": {},
   "outputs": [],
   "source": [
    "chunked_fp = '../data/processed/sat_train/train_chunked_processed.csv'"
   ]
  },
  {
   "cell_type": "code",
   "execution_count": 129,
   "id": "ddbad38e-3678-4450-b449-f994b32e7fd9",
   "metadata": {},
   "outputs": [],
   "source": [
    "df.to_csv(chunked_fp, index=False)"
   ]
  },
  {
   "cell_type": "markdown",
   "id": "87a94b16-0511-488c-bc50-f15f06b3efca",
   "metadata": {},
   "source": [
    "## Training "
   ]
  },
  {
   "cell_type": "code",
   "execution_count": 131,
   "id": "f3e0c592-cf29-4579-9b6c-2c3607624bee",
   "metadata": {},
   "outputs": [
    {
     "data": {
      "text/html": [
       "<div>\n",
       "<style scoped>\n",
       "    .dataframe tbody tr th:only-of-type {\n",
       "        vertical-align: middle;\n",
       "    }\n",
       "\n",
       "    .dataframe tbody tr th {\n",
       "        vertical-align: top;\n",
       "    }\n",
       "\n",
       "    .dataframe thead th {\n",
       "        text-align: right;\n",
       "    }\n",
       "</style>\n",
       "<table border=\"1\" class=\"dataframe\">\n",
       "  <thead>\n",
       "    <tr style=\"text-align: right;\">\n",
       "      <th></th>\n",
       "      <th>essay_id</th>\n",
       "      <th>essay_set</th>\n",
       "      <th>essay</th>\n",
       "      <th>rescaled_score</th>\n",
       "      <th>low_med_hi</th>\n",
       "      <th>low_med_hi_numeric</th>\n",
       "      <th>rounded_rescaled_score</th>\n",
       "      <th>chunk</th>\n",
       "    </tr>\n",
       "  </thead>\n",
       "  <tbody>\n",
       "    <tr>\n",
       "      <th>0</th>\n",
       "      <td>10135</td>\n",
       "      <td>4</td>\n",
       "      <td>The reason why the author concludes the story ...</td>\n",
       "      <td>7.0</td>\n",
       "      <td>medium</td>\n",
       "      <td>2</td>\n",
       "      <td>7.0</td>\n",
       "      <td>0</td>\n",
       "    </tr>\n",
       "    <tr>\n",
       "      <th>1</th>\n",
       "      <td>4131</td>\n",
       "      <td>2</td>\n",
       "      <td>Would you censor the @CAPS1? i @CAPS2 i sure w...</td>\n",
       "      <td>4.6</td>\n",
       "      <td>low</td>\n",
       "      <td>1</td>\n",
       "      <td>5.0</td>\n",
       "      <td>2</td>\n",
       "    </tr>\n",
       "    <tr>\n",
       "      <th>2</th>\n",
       "      <td>4131</td>\n",
       "      <td>2</td>\n",
       "      <td>Throught out the story the @CAPS5 gives the bo...</td>\n",
       "      <td>4.6</td>\n",
       "      <td>low</td>\n",
       "      <td>1</td>\n",
       "      <td>5.0</td>\n",
       "      <td>2</td>\n",
       "    </tr>\n",
       "    <tr>\n",
       "      <th>3</th>\n",
       "      <td>4131</td>\n",
       "      <td>2</td>\n",
       "      <td>Why?! The @CAPS1 for example is just a book fu...</td>\n",
       "      <td>4.6</td>\n",
       "      <td>low</td>\n",
       "      <td>1</td>\n",
       "      <td>5.0</td>\n",
       "      <td>2</td>\n",
       "    </tr>\n",
       "    <tr>\n",
       "      <th>4</th>\n",
       "      <td>4131</td>\n",
       "      <td>2</td>\n",
       "      <td>Thanks to a close friend. @CAPS8 could also be...</td>\n",
       "      <td>4.6</td>\n",
       "      <td>low</td>\n",
       "      <td>1</td>\n",
       "      <td>5.0</td>\n",
       "      <td>2</td>\n",
       "    </tr>\n",
       "    <tr>\n",
       "      <th>...</th>\n",
       "      <td>...</td>\n",
       "      <td>...</td>\n",
       "      <td>...</td>\n",
       "      <td>...</td>\n",
       "      <td>...</td>\n",
       "      <td>...</td>\n",
       "      <td>...</td>\n",
       "      <td>...</td>\n",
       "    </tr>\n",
       "    <tr>\n",
       "      <th>17532</th>\n",
       "      <td>13151</td>\n",
       "      <td>5</td>\n",
       "      <td>The mood created by the author in this memoir ...</td>\n",
       "      <td>5.5</td>\n",
       "      <td>medium</td>\n",
       "      <td>2</td>\n",
       "      <td>6.0</td>\n",
       "      <td>3</td>\n",
       "    </tr>\n",
       "    <tr>\n",
       "      <th>17533</th>\n",
       "      <td>3061</td>\n",
       "      <td>2</td>\n",
       "      <td>Dear Katherine Paterson, Do you believe that c...</td>\n",
       "      <td>4.6</td>\n",
       "      <td>low</td>\n",
       "      <td>1</td>\n",
       "      <td>5.0</td>\n",
       "      <td>2</td>\n",
       "    </tr>\n",
       "    <tr>\n",
       "      <th>17534</th>\n",
       "      <td>3061</td>\n",
       "      <td>2</td>\n",
       "      <td>Either way I think that they shouldn't remove ...</td>\n",
       "      <td>4.6</td>\n",
       "      <td>low</td>\n",
       "      <td>1</td>\n",
       "      <td>5.0</td>\n",
       "      <td>2</td>\n",
       "    </tr>\n",
       "    <tr>\n",
       "      <th>17535</th>\n",
       "      <td>3061</td>\n",
       "      <td>2</td>\n",
       "      <td>Just because that single person doesn't like t...</td>\n",
       "      <td>4.6</td>\n",
       "      <td>low</td>\n",
       "      <td>1</td>\n",
       "      <td>5.0</td>\n",
       "      <td>2</td>\n",
       "    </tr>\n",
       "    <tr>\n",
       "      <th>17536</th>\n",
       "      <td>12438</td>\n",
       "      <td>5</td>\n",
       "      <td>In the excerpt by Narciso Rodriguez, the mood ...</td>\n",
       "      <td>5.5</td>\n",
       "      <td>medium</td>\n",
       "      <td>2</td>\n",
       "      <td>6.0</td>\n",
       "      <td>0</td>\n",
       "    </tr>\n",
       "  </tbody>\n",
       "</table>\n",
       "<p>17537 rows × 8 columns</p>\n",
       "</div>"
      ],
      "text/plain": [
       "       essay_id  essay_set                                              essay  \\\n",
       "0         10135          4  The reason why the author concludes the story ...   \n",
       "1          4131          2  Would you censor the @CAPS1? i @CAPS2 i sure w...   \n",
       "2          4131          2  Throught out the story the @CAPS5 gives the bo...   \n",
       "3          4131          2  Why?! The @CAPS1 for example is just a book fu...   \n",
       "4          4131          2  Thanks to a close friend. @CAPS8 could also be...   \n",
       "...         ...        ...                                                ...   \n",
       "17532     13151          5  The mood created by the author in this memoir ...   \n",
       "17533      3061          2  Dear Katherine Paterson, Do you believe that c...   \n",
       "17534      3061          2  Either way I think that they shouldn't remove ...   \n",
       "17535      3061          2  Just because that single person doesn't like t...   \n",
       "17536     12438          5  In the excerpt by Narciso Rodriguez, the mood ...   \n",
       "\n",
       "       rescaled_score low_med_hi  low_med_hi_numeric  rounded_rescaled_score  \\\n",
       "0                 7.0     medium                   2                     7.0   \n",
       "1                 4.6        low                   1                     5.0   \n",
       "2                 4.6        low                   1                     5.0   \n",
       "3                 4.6        low                   1                     5.0   \n",
       "4                 4.6        low                   1                     5.0   \n",
       "...               ...        ...                 ...                     ...   \n",
       "17532             5.5     medium                   2                     6.0   \n",
       "17533             4.6        low                   1                     5.0   \n",
       "17534             4.6        low                   1                     5.0   \n",
       "17535             4.6        low                   1                     5.0   \n",
       "17536             5.5     medium                   2                     6.0   \n",
       "\n",
       "       chunk  \n",
       "0          0  \n",
       "1          2  \n",
       "2          2  \n",
       "3          2  \n",
       "4          2  \n",
       "...      ...  \n",
       "17532      3  \n",
       "17533      2  \n",
       "17534      2  \n",
       "17535      2  \n",
       "17536      0  \n",
       "\n",
       "[17537 rows x 8 columns]"
      ]
     },
     "execution_count": 131,
     "metadata": {},
     "output_type": "execute_result"
    }
   ],
   "source": [
    "pd.read_csv(chunked_fp)"
   ]
  }
 ],
 "metadata": {
  "kernelspec": {
   "display_name": "Python 3 (ipykernel)",
   "language": "python",
   "name": "python3"
  },
  "language_info": {
   "codemirror_mode": {
    "name": "ipython",
    "version": 3
   },
   "file_extension": ".py",
   "mimetype": "text/x-python",
   "name": "python",
   "nbconvert_exporter": "python",
   "pygments_lexer": "ipython3",
   "version": "3.10.6"
  }
 },
 "nbformat": 4,
 "nbformat_minor": 5
}
