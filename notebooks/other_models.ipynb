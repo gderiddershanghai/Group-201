{
 "cells": [
  {
   "cell_type": "markdown",
   "id": "db099e64-4e48-425e-ac87-7f47c78d4c9e",
   "metadata": {},
   "source": [
    "$$\n",
    "\\mathbf{v} = \n",
    "\\begin{pmatrix}\n",
    "0.52 & -0.87 & 0.14 & -0.34 & 0.99 & \\cdots & -0.23 & 0.56 & -0.71\n",
    "\\end{pmatrix}, \\quad \\mathbf{v} \\in \\mathbb{R}^{1 \\times 512}\n",
    "$$\n"
   ]
  },
  {
   "cell_type": "markdown",
   "id": "09ec3109-d100-469b-b226-69632d7c3e8d",
   "metadata": {},
   "source": [
    "$$\n",
    "\\mathbf{v} = \n",
    "\\begin{pmatrix}\n",
    "0.52 \\\\\n",
    "-0.87 \\\\\n",
    "0.14 \\\\\n",
    "-0.34 \\\\\n",
    "0.99 \\\\\n",
    "\\vdots \\\\\n",
    "-0.23 \\\\\n",
    "0.56 \\\\\n",
    "-0.71\n",
    "\\end{pmatrix}, \\quad \\mathbf{v} \\in \\mathbb{R}^{512 \\times 1}\n",
    "$$\n"
   ]
  }
 ],
 "metadata": {
  "kernelspec": {
   "display_name": "Python 3 (ipykernel)",
   "language": "python",
   "name": "python3"
  },
  "language_info": {
   "codemirror_mode": {
    "name": "ipython",
    "version": 3
   },
   "file_extension": ".py",
   "mimetype": "text/x-python",
   "name": "python",
   "nbconvert_exporter": "python",
   "pygments_lexer": "ipython3",
   "version": "3.10.6"
  }
 },
 "nbformat": 4,
 "nbformat_minor": 5
}
