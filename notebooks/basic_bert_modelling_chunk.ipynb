{
 "cells": [
  {
   "cell_type": "code",
   "execution_count": 225,
   "id": "2885eaee-e215-4f32-81e0-bd24d2c90e40",
   "metadata": {},
   "outputs": [
    {
     "name": "stdout",
     "output_type": "stream",
     "text": [
      "The autoreload extension is already loaded. To reload it, use:\n",
      "  %reload_ext autoreload\n"
     ]
    }
   ],
   "source": [
    "%load_ext autoreload\n",
    "%autoreload 2\n",
    "import pandas as pd\n",
    "import numpy as np\n",
    "import sys\n",
    "import os\n",
    "\n",
    "script_path = os.path.abspath(\"../src/features\")\n",
    "sys.path.append(script_path)\n",
    "from sat_chunk_normalize import rescale_scores_with_categories, Chunker\n"
   ]
  },
  {
   "cell_type": "markdown",
   "id": "53b3cfcc-5862-4e54-a9ab-f106de5eac94",
   "metadata": {},
   "source": [
    "## 1. Reading in data and normalizing scores"
   ]
  },
  {
   "cell_type": "code",
   "execution_count": 82,
   "id": "065a8bb5-9f77-440e-a8c5-848f3dfe9c36",
   "metadata": {},
   "outputs": [
    {
     "name": "stdout",
     "output_type": "stream",
     "text": [
      "ielts  sat_train  sat_val\n"
     ]
    }
   ],
   "source": [
    "!ls ../data/processed/sat_train"
   ]
  },
  {
   "cell_type": "code",
   "execution_count": 54,
   "id": "0b6bfbb7-18d1-491a-931d-b54ec2975fab",
   "metadata": {},
   "outputs": [],
   "source": [
    "fp = '../data/raw/sat_train/training_set_rel3.xls'"
   ]
  },
  {
   "cell_type": "code",
   "execution_count": 55,
   "id": "20368792-46a9-4666-b6da-31119f95f9fb",
   "metadata": {},
   "outputs": [],
   "source": [
    "df = pd.read_excel(fp)"
   ]
  },
  {
   "cell_type": "code",
   "execution_count": 56,
   "id": "b82447d9-4734-46ae-950c-c6bc477cbe3f",
   "metadata": {},
   "outputs": [
    {
     "data": {
      "text/html": [
       "<div>\n",
       "<style scoped>\n",
       "    .dataframe tbody tr th:only-of-type {\n",
       "        vertical-align: middle;\n",
       "    }\n",
       "\n",
       "    .dataframe tbody tr th {\n",
       "        vertical-align: top;\n",
       "    }\n",
       "\n",
       "    .dataframe thead th {\n",
       "        text-align: right;\n",
       "    }\n",
       "</style>\n",
       "<table border=\"1\" class=\"dataframe\">\n",
       "  <thead>\n",
       "    <tr style=\"text-align: right;\">\n",
       "      <th></th>\n",
       "      <th>essay_id</th>\n",
       "      <th>essay_set</th>\n",
       "      <th>essay</th>\n",
       "      <th>rater1_domain1</th>\n",
       "      <th>rater2_domain1</th>\n",
       "      <th>rater3_domain1</th>\n",
       "      <th>domain1_score</th>\n",
       "      <th>rater1_domain2</th>\n",
       "      <th>rater2_domain2</th>\n",
       "      <th>domain2_score</th>\n",
       "      <th>...</th>\n",
       "      <th>rater2_trait3</th>\n",
       "      <th>rater2_trait4</th>\n",
       "      <th>rater2_trait5</th>\n",
       "      <th>rater2_trait6</th>\n",
       "      <th>rater3_trait1</th>\n",
       "      <th>rater3_trait2</th>\n",
       "      <th>rater3_trait3</th>\n",
       "      <th>rater3_trait4</th>\n",
       "      <th>rater3_trait5</th>\n",
       "      <th>rater3_trait6</th>\n",
       "    </tr>\n",
       "  </thead>\n",
       "  <tbody>\n",
       "    <tr>\n",
       "      <th>0</th>\n",
       "      <td>1</td>\n",
       "      <td>1</td>\n",
       "      <td>Dear local newspaper, I think effects computer...</td>\n",
       "      <td>4.0</td>\n",
       "      <td>4.0</td>\n",
       "      <td>NaN</td>\n",
       "      <td>8.0</td>\n",
       "      <td>NaN</td>\n",
       "      <td>NaN</td>\n",
       "      <td>NaN</td>\n",
       "      <td>...</td>\n",
       "      <td>NaN</td>\n",
       "      <td>NaN</td>\n",
       "      <td>NaN</td>\n",
       "      <td>NaN</td>\n",
       "      <td>NaN</td>\n",
       "      <td>NaN</td>\n",
       "      <td>NaN</td>\n",
       "      <td>NaN</td>\n",
       "      <td>NaN</td>\n",
       "      <td>NaN</td>\n",
       "    </tr>\n",
       "  </tbody>\n",
       "</table>\n",
       "<p>1 rows × 28 columns</p>\n",
       "</div>"
      ],
      "text/plain": [
       "   essay_id  essay_set                                              essay  \\\n",
       "0         1          1  Dear local newspaper, I think effects computer...   \n",
       "\n",
       "   rater1_domain1  rater2_domain1  rater3_domain1  domain1_score  \\\n",
       "0             4.0             4.0             NaN            8.0   \n",
       "\n",
       "   rater1_domain2  rater2_domain2  domain2_score  ...  rater2_trait3  \\\n",
       "0             NaN             NaN            NaN  ...            NaN   \n",
       "\n",
       "   rater2_trait4  rater2_trait5  rater2_trait6  rater3_trait1  rater3_trait2  \\\n",
       "0            NaN            NaN            NaN            NaN            NaN   \n",
       "\n",
       "   rater3_trait3  rater3_trait4  rater3_trait5  rater3_trait6  \n",
       "0            NaN            NaN            NaN            NaN  \n",
       "\n",
       "[1 rows x 28 columns]"
      ]
     },
     "execution_count": 56,
     "metadata": {},
     "output_type": "execute_result"
    }
   ],
   "source": [
    "df.head(1)"
   ]
  },
  {
   "cell_type": "code",
   "execution_count": 57,
   "id": "8f15ce6a-2881-47a4-8611-1d326e21bf9e",
   "metadata": {},
   "outputs": [],
   "source": [
    "# df.groupby(by='essay_set')['domain1_score'].agg(['min', 'max']).reset_index()"
   ]
  },
  {
   "cell_type": "code",
   "execution_count": 58,
   "id": "4ae300dd-b353-4dac-9785-f9b2bdb6ead8",
   "metadata": {},
   "outputs": [],
   "source": [
    "# !ls ../src/features/sat_chunk_normalize.py"
   ]
  },
  {
   "cell_type": "code",
   "execution_count": 61,
   "id": "f0e5bd58-409f-4dc8-9fdc-ee67846511ba",
   "metadata": {},
   "outputs": [],
   "source": [
    "%reload_ext autoreload\n",
    "df_rescaled = rescale_scores_with_categories(df=df, score_column='domain1_score', output_range=(1, 10))"
   ]
  },
  {
   "cell_type": "code",
   "execution_count": 62,
   "id": "4d2f445e-e941-44d9-ac7c-713d4e8d0170",
   "metadata": {},
   "outputs": [
    {
     "data": {
      "text/html": [
       "<div>\n",
       "<style scoped>\n",
       "    .dataframe tbody tr th:only-of-type {\n",
       "        vertical-align: middle;\n",
       "    }\n",
       "\n",
       "    .dataframe tbody tr th {\n",
       "        vertical-align: top;\n",
       "    }\n",
       "\n",
       "    .dataframe thead th {\n",
       "        text-align: right;\n",
       "    }\n",
       "</style>\n",
       "<table border=\"1\" class=\"dataframe\">\n",
       "  <thead>\n",
       "    <tr style=\"text-align: right;\">\n",
       "      <th></th>\n",
       "      <th>essay_id</th>\n",
       "      <th>essay_set</th>\n",
       "      <th>essay</th>\n",
       "      <th>rescaled_score</th>\n",
       "      <th>low_med_hi</th>\n",
       "      <th>low_med_hi_numeric</th>\n",
       "    </tr>\n",
       "  </thead>\n",
       "  <tbody>\n",
       "    <tr>\n",
       "      <th>0</th>\n",
       "      <td>1</td>\n",
       "      <td>1</td>\n",
       "      <td>Dear local newspaper, I think effects computer...</td>\n",
       "      <td>6.40</td>\n",
       "      <td>medium</td>\n",
       "      <td>2</td>\n",
       "    </tr>\n",
       "    <tr>\n",
       "      <th>1</th>\n",
       "      <td>2</td>\n",
       "      <td>1</td>\n",
       "      <td>Dear @CAPS1 @CAPS2, I believe that using compu...</td>\n",
       "      <td>7.30</td>\n",
       "      <td>medium</td>\n",
       "      <td>2</td>\n",
       "    </tr>\n",
       "    <tr>\n",
       "      <th>2</th>\n",
       "      <td>3</td>\n",
       "      <td>1</td>\n",
       "      <td>Dear, @CAPS1 @CAPS2 @CAPS3 More and more peopl...</td>\n",
       "      <td>5.50</td>\n",
       "      <td>medium</td>\n",
       "      <td>2</td>\n",
       "    </tr>\n",
       "    <tr>\n",
       "      <th>3</th>\n",
       "      <td>4</td>\n",
       "      <td>1</td>\n",
       "      <td>Dear Local Newspaper, @CAPS1 I have found that...</td>\n",
       "      <td>8.20</td>\n",
       "      <td>high</td>\n",
       "      <td>3</td>\n",
       "    </tr>\n",
       "    <tr>\n",
       "      <th>4</th>\n",
       "      <td>5</td>\n",
       "      <td>1</td>\n",
       "      <td>Dear @LOCATION1, I know having computers has a...</td>\n",
       "      <td>6.40</td>\n",
       "      <td>medium</td>\n",
       "      <td>2</td>\n",
       "    </tr>\n",
       "    <tr>\n",
       "      <th>...</th>\n",
       "      <td>...</td>\n",
       "      <td>...</td>\n",
       "      <td>...</td>\n",
       "      <td>...</td>\n",
       "      <td>...</td>\n",
       "      <td>...</td>\n",
       "    </tr>\n",
       "    <tr>\n",
       "      <th>12973</th>\n",
       "      <td>21626</td>\n",
       "      <td>8</td>\n",
       "      <td>In most stories mothers and daughters are eit...</td>\n",
       "      <td>5.50</td>\n",
       "      <td>medium</td>\n",
       "      <td>2</td>\n",
       "    </tr>\n",
       "    <tr>\n",
       "      <th>12974</th>\n",
       "      <td>21628</td>\n",
       "      <td>8</td>\n",
       "      <td>I never understood the meaning laughter is th...</td>\n",
       "      <td>4.96</td>\n",
       "      <td>low</td>\n",
       "      <td>1</td>\n",
       "    </tr>\n",
       "    <tr>\n",
       "      <th>12975</th>\n",
       "      <td>21629</td>\n",
       "      <td>8</td>\n",
       "      <td>When you laugh, is @CAPS5 out of habit, or is ...</td>\n",
       "      <td>6.40</td>\n",
       "      <td>medium</td>\n",
       "      <td>2</td>\n",
       "    </tr>\n",
       "    <tr>\n",
       "      <th>12976</th>\n",
       "      <td>21630</td>\n",
       "      <td>8</td>\n",
       "      <td>Trippin' on fen...</td>\n",
       "      <td>6.40</td>\n",
       "      <td>medium</td>\n",
       "      <td>2</td>\n",
       "    </tr>\n",
       "    <tr>\n",
       "      <th>12977</th>\n",
       "      <td>21633</td>\n",
       "      <td>8</td>\n",
       "      <td>Many people believe that laughter can improve...</td>\n",
       "      <td>6.40</td>\n",
       "      <td>medium</td>\n",
       "      <td>2</td>\n",
       "    </tr>\n",
       "  </tbody>\n",
       "</table>\n",
       "<p>12978 rows × 6 columns</p>\n",
       "</div>"
      ],
      "text/plain": [
       "       essay_id  essay_set                                              essay  \\\n",
       "0             1          1  Dear local newspaper, I think effects computer...   \n",
       "1             2          1  Dear @CAPS1 @CAPS2, I believe that using compu...   \n",
       "2             3          1  Dear, @CAPS1 @CAPS2 @CAPS3 More and more peopl...   \n",
       "3             4          1  Dear Local Newspaper, @CAPS1 I have found that...   \n",
       "4             5          1  Dear @LOCATION1, I know having computers has a...   \n",
       "...         ...        ...                                                ...   \n",
       "12973     21626          8   In most stories mothers and daughters are eit...   \n",
       "12974     21628          8   I never understood the meaning laughter is th...   \n",
       "12975     21629          8  When you laugh, is @CAPS5 out of habit, or is ...   \n",
       "12976     21630          8                                 Trippin' on fen...   \n",
       "12977     21633          8   Many people believe that laughter can improve...   \n",
       "\n",
       "       rescaled_score low_med_hi low_med_hi_numeric  \n",
       "0                6.40     medium                  2  \n",
       "1                7.30     medium                  2  \n",
       "2                5.50     medium                  2  \n",
       "3                8.20       high                  3  \n",
       "4                6.40     medium                  2  \n",
       "...               ...        ...                ...  \n",
       "12973            5.50     medium                  2  \n",
       "12974            4.96        low                  1  \n",
       "12975            6.40     medium                  2  \n",
       "12976            6.40     medium                  2  \n",
       "12977            6.40     medium                  2  \n",
       "\n",
       "[12978 rows x 6 columns]"
      ]
     },
     "execution_count": 62,
     "metadata": {},
     "output_type": "execute_result"
    }
   ],
   "source": [
    "df_rescaled"
   ]
  },
  {
   "cell_type": "code",
   "execution_count": 77,
   "id": "9bdd473d-1a9e-4ec3-8b4b-e03b99400800",
   "metadata": {},
   "outputs": [],
   "source": [
    "df['essay_split_len'] =  df['essay'].str.split(' ').apply(len)"
   ]
  },
  {
   "cell_type": "code",
   "execution_count": 79,
   "id": "db071766-1131-4270-9b39-a2d13558c171",
   "metadata": {},
   "outputs": [
    {
     "data": {
      "text/plain": [
       "False"
      ]
     },
     "execution_count": 79,
     "metadata": {},
     "output_type": "execute_result"
    }
   ],
   "source": [
    "has_line_breaks = df_rescaled['essay'].str.contains('\\n', na=False).any()\n",
    "has_line_breaks"
   ]
  },
  {
   "cell_type": "code",
   "execution_count": 81,
   "id": "92558f4b-d650-4ba7-baff-e1019e0a0bfb",
   "metadata": {},
   "outputs": [
    {
     "data": {
      "text/plain": [
       "Index(['essay_id', 'essay_set', 'essay', 'rescaled_score', 'low_med_hi',\n",
       "       'low_med_hi_numeric'],\n",
       "      dtype='object')"
      ]
     },
     "execution_count": 81,
     "metadata": {},
     "output_type": "execute_result"
    }
   ],
   "source": [
    "df_rescaled.columns"
   ]
  },
  {
   "cell_type": "code",
   "execution_count": 83,
   "id": "ecf72539-0f4f-42ce-aa4c-57ca2498889d",
   "metadata": {},
   "outputs": [],
   "source": [
    "train_full_out_fp = '../data/processed/sat_train/train_full_processed.csv'"
   ]
  },
  {
   "cell_type": "code",
   "execution_count": 84,
   "id": "9ea846a5-46b1-4bd3-98f7-4c9fda68222f",
   "metadata": {},
   "outputs": [],
   "source": [
    "df_rescaled.to_csv(train_full_out_fp,index=False)"
   ]
  },
  {
   "cell_type": "code",
   "execution_count": 85,
   "id": "a9c74c07-3ecd-4050-9271-2031db758df1",
   "metadata": {},
   "outputs": [],
   "source": [
    "df = pd.read_csv(train_full_out_fp)"
   ]
  },
  {
   "cell_type": "code",
   "execution_count": 86,
   "id": "bb532c92-3818-48ab-8c72-4b38672087dd",
   "metadata": {},
   "outputs": [
    {
     "data": {
      "text/html": [
       "<div>\n",
       "<style scoped>\n",
       "    .dataframe tbody tr th:only-of-type {\n",
       "        vertical-align: middle;\n",
       "    }\n",
       "\n",
       "    .dataframe tbody tr th {\n",
       "        vertical-align: top;\n",
       "    }\n",
       "\n",
       "    .dataframe thead th {\n",
       "        text-align: right;\n",
       "    }\n",
       "</style>\n",
       "<table border=\"1\" class=\"dataframe\">\n",
       "  <thead>\n",
       "    <tr style=\"text-align: right;\">\n",
       "      <th></th>\n",
       "      <th>essay_id</th>\n",
       "      <th>essay_set</th>\n",
       "      <th>essay</th>\n",
       "      <th>rescaled_score</th>\n",
       "      <th>low_med_hi</th>\n",
       "      <th>low_med_hi_numeric</th>\n",
       "    </tr>\n",
       "  </thead>\n",
       "  <tbody>\n",
       "    <tr>\n",
       "      <th>0</th>\n",
       "      <td>1</td>\n",
       "      <td>1</td>\n",
       "      <td>Dear local newspaper, I think effects computer...</td>\n",
       "      <td>6.40</td>\n",
       "      <td>medium</td>\n",
       "      <td>2.0</td>\n",
       "    </tr>\n",
       "    <tr>\n",
       "      <th>1</th>\n",
       "      <td>2</td>\n",
       "      <td>1</td>\n",
       "      <td>Dear @CAPS1 @CAPS2, I believe that using compu...</td>\n",
       "      <td>7.30</td>\n",
       "      <td>medium</td>\n",
       "      <td>2.0</td>\n",
       "    </tr>\n",
       "    <tr>\n",
       "      <th>2</th>\n",
       "      <td>3</td>\n",
       "      <td>1</td>\n",
       "      <td>Dear, @CAPS1 @CAPS2 @CAPS3 More and more peopl...</td>\n",
       "      <td>5.50</td>\n",
       "      <td>medium</td>\n",
       "      <td>2.0</td>\n",
       "    </tr>\n",
       "    <tr>\n",
       "      <th>3</th>\n",
       "      <td>4</td>\n",
       "      <td>1</td>\n",
       "      <td>Dear Local Newspaper, @CAPS1 I have found that...</td>\n",
       "      <td>8.20</td>\n",
       "      <td>high</td>\n",
       "      <td>3.0</td>\n",
       "    </tr>\n",
       "    <tr>\n",
       "      <th>4</th>\n",
       "      <td>5</td>\n",
       "      <td>1</td>\n",
       "      <td>Dear @LOCATION1, I know having computers has a...</td>\n",
       "      <td>6.40</td>\n",
       "      <td>medium</td>\n",
       "      <td>2.0</td>\n",
       "    </tr>\n",
       "    <tr>\n",
       "      <th>...</th>\n",
       "      <td>...</td>\n",
       "      <td>...</td>\n",
       "      <td>...</td>\n",
       "      <td>...</td>\n",
       "      <td>...</td>\n",
       "      <td>...</td>\n",
       "    </tr>\n",
       "    <tr>\n",
       "      <th>12973</th>\n",
       "      <td>21626</td>\n",
       "      <td>8</td>\n",
       "      <td>In most stories mothers and daughters are eit...</td>\n",
       "      <td>5.50</td>\n",
       "      <td>medium</td>\n",
       "      <td>2.0</td>\n",
       "    </tr>\n",
       "    <tr>\n",
       "      <th>12974</th>\n",
       "      <td>21628</td>\n",
       "      <td>8</td>\n",
       "      <td>I never understood the meaning laughter is th...</td>\n",
       "      <td>4.96</td>\n",
       "      <td>low</td>\n",
       "      <td>1.0</td>\n",
       "    </tr>\n",
       "    <tr>\n",
       "      <th>12975</th>\n",
       "      <td>21629</td>\n",
       "      <td>8</td>\n",
       "      <td>When you laugh, is @CAPS5 out of habit, or is ...</td>\n",
       "      <td>6.40</td>\n",
       "      <td>medium</td>\n",
       "      <td>2.0</td>\n",
       "    </tr>\n",
       "    <tr>\n",
       "      <th>12976</th>\n",
       "      <td>21630</td>\n",
       "      <td>8</td>\n",
       "      <td>Trippin' on fen...</td>\n",
       "      <td>6.40</td>\n",
       "      <td>medium</td>\n",
       "      <td>2.0</td>\n",
       "    </tr>\n",
       "    <tr>\n",
       "      <th>12977</th>\n",
       "      <td>21633</td>\n",
       "      <td>8</td>\n",
       "      <td>Many people believe that laughter can improve...</td>\n",
       "      <td>6.40</td>\n",
       "      <td>medium</td>\n",
       "      <td>2.0</td>\n",
       "    </tr>\n",
       "  </tbody>\n",
       "</table>\n",
       "<p>12978 rows × 6 columns</p>\n",
       "</div>"
      ],
      "text/plain": [
       "       essay_id  essay_set                                              essay  \\\n",
       "0             1          1  Dear local newspaper, I think effects computer...   \n",
       "1             2          1  Dear @CAPS1 @CAPS2, I believe that using compu...   \n",
       "2             3          1  Dear, @CAPS1 @CAPS2 @CAPS3 More and more peopl...   \n",
       "3             4          1  Dear Local Newspaper, @CAPS1 I have found that...   \n",
       "4             5          1  Dear @LOCATION1, I know having computers has a...   \n",
       "...         ...        ...                                                ...   \n",
       "12973     21626          8   In most stories mothers and daughters are eit...   \n",
       "12974     21628          8   I never understood the meaning laughter is th...   \n",
       "12975     21629          8  When you laugh, is @CAPS5 out of habit, or is ...   \n",
       "12976     21630          8                                 Trippin' on fen...   \n",
       "12977     21633          8   Many people believe that laughter can improve...   \n",
       "\n",
       "       rescaled_score low_med_hi  low_med_hi_numeric  \n",
       "0                6.40     medium                 2.0  \n",
       "1                7.30     medium                 2.0  \n",
       "2                5.50     medium                 2.0  \n",
       "3                8.20       high                 3.0  \n",
       "4                6.40     medium                 2.0  \n",
       "...               ...        ...                 ...  \n",
       "12973            5.50     medium                 2.0  \n",
       "12974            4.96        low                 1.0  \n",
       "12975            6.40     medium                 2.0  \n",
       "12976            6.40     medium                 2.0  \n",
       "12977            6.40     medium                 2.0  \n",
       "\n",
       "[12978 rows x 6 columns]"
      ]
     },
     "execution_count": 86,
     "metadata": {},
     "output_type": "execute_result"
    }
   ],
   "source": [
    "df"
   ]
  },
  {
   "cell_type": "code",
   "execution_count": 88,
   "id": "7430e0e8-ce2e-4df8-b7f2-efdb34f4c289",
   "metadata": {},
   "outputs": [],
   "source": [
    "val_fp = '../data/raw/sat_val/valid_set.xlsx'\n",
    "df_val = pd.read_excel(val_fp)"
   ]
  },
  {
   "cell_type": "code",
   "execution_count": 90,
   "id": "6b48f88a-26f6-4349-b965-56619937eebd",
   "metadata": {},
   "outputs": [
    {
     "data": {
      "text/html": [
       "<div>\n",
       "<style scoped>\n",
       "    .dataframe tbody tr th:only-of-type {\n",
       "        vertical-align: middle;\n",
       "    }\n",
       "\n",
       "    .dataframe tbody tr th {\n",
       "        vertical-align: top;\n",
       "    }\n",
       "\n",
       "    .dataframe thead th {\n",
       "        text-align: right;\n",
       "    }\n",
       "</style>\n",
       "<table border=\"1\" class=\"dataframe\">\n",
       "  <thead>\n",
       "    <tr style=\"text-align: right;\">\n",
       "      <th></th>\n",
       "      <th>essay_id</th>\n",
       "      <th>essay_set</th>\n",
       "      <th>essay</th>\n",
       "      <th>domain1_predictionid</th>\n",
       "      <th>domain2_predictionid</th>\n",
       "    </tr>\n",
       "  </thead>\n",
       "  <tbody>\n",
       "    <tr>\n",
       "      <th>0</th>\n",
       "      <td>1788</td>\n",
       "      <td>1</td>\n",
       "      <td>Dear @ORGANIZATION1, @CAPS1 more and more peop...</td>\n",
       "      <td>1788</td>\n",
       "      <td>NaN</td>\n",
       "    </tr>\n",
       "    <tr>\n",
       "      <th>1</th>\n",
       "      <td>1789</td>\n",
       "      <td>1</td>\n",
       "      <td>Dear @LOCATION1 Time @CAPS1 me tell you what I...</td>\n",
       "      <td>1789</td>\n",
       "      <td>NaN</td>\n",
       "    </tr>\n",
       "  </tbody>\n",
       "</table>\n",
       "</div>"
      ],
      "text/plain": [
       "   essay_id  essay_set                                              essay  \\\n",
       "0      1788          1  Dear @ORGANIZATION1, @CAPS1 more and more peop...   \n",
       "1      1789          1  Dear @LOCATION1 Time @CAPS1 me tell you what I...   \n",
       "\n",
       "   domain1_predictionid  domain2_predictionid  \n",
       "0                  1788                   NaN  \n",
       "1                  1789                   NaN  "
      ]
     },
     "execution_count": 90,
     "metadata": {},
     "output_type": "execute_result"
    }
   ],
   "source": [
    "df_val.head(2)"
   ]
  },
  {
   "cell_type": "code",
   "execution_count": 94,
   "id": "a7f557df-8d69-4bda-8a42-e60f2e21820b",
   "metadata": {},
   "outputs": [],
   "source": [
    "test_fp = '../data/raw/sat_test/test_set.tsv'\n",
    "df_test = pd.read_csv(test_fp, sep='\\t', encoding='latin1')  \n"
   ]
  },
  {
   "cell_type": "code",
   "execution_count": 95,
   "id": "e3935686-1a00-4825-82e5-6d54ce970852",
   "metadata": {},
   "outputs": [
    {
     "data": {
      "text/html": [
       "<div>\n",
       "<style scoped>\n",
       "    .dataframe tbody tr th:only-of-type {\n",
       "        vertical-align: middle;\n",
       "    }\n",
       "\n",
       "    .dataframe tbody tr th {\n",
       "        vertical-align: top;\n",
       "    }\n",
       "\n",
       "    .dataframe thead th {\n",
       "        text-align: right;\n",
       "    }\n",
       "</style>\n",
       "<table border=\"1\" class=\"dataframe\">\n",
       "  <thead>\n",
       "    <tr style=\"text-align: right;\">\n",
       "      <th></th>\n",
       "      <th>essay_id</th>\n",
       "      <th>essay_set</th>\n",
       "      <th>essay</th>\n",
       "      <th>domain1_predictionid</th>\n",
       "      <th>domain2_predictionid</th>\n",
       "    </tr>\n",
       "  </thead>\n",
       "  <tbody>\n",
       "    <tr>\n",
       "      <th>0</th>\n",
       "      <td>2383</td>\n",
       "      <td>1</td>\n",
       "      <td>I believe that computers have a positive effec...</td>\n",
       "      <td>2383</td>\n",
       "      <td>NaN</td>\n",
       "    </tr>\n",
       "    <tr>\n",
       "      <th>1</th>\n",
       "      <td>2384</td>\n",
       "      <td>1</td>\n",
       "      <td>Dear @CAPS1, I know some problems have came up...</td>\n",
       "      <td>2384</td>\n",
       "      <td>NaN</td>\n",
       "    </tr>\n",
       "    <tr>\n",
       "      <th>2</th>\n",
       "      <td>2385</td>\n",
       "      <td>1</td>\n",
       "      <td>Dear to whom it @MONTH1 concern, Computers are...</td>\n",
       "      <td>2385</td>\n",
       "      <td>NaN</td>\n",
       "    </tr>\n",
       "    <tr>\n",
       "      <th>3</th>\n",
       "      <td>2386</td>\n",
       "      <td>1</td>\n",
       "      <td>Dear @CAPS1 @CAPS2, @CAPS3 has come to my atte...</td>\n",
       "      <td>2386</td>\n",
       "      <td>NaN</td>\n",
       "    </tr>\n",
       "    <tr>\n",
       "      <th>4</th>\n",
       "      <td>2387</td>\n",
       "      <td>1</td>\n",
       "      <td>Dear Local newspaper, I think that people have...</td>\n",
       "      <td>2387</td>\n",
       "      <td>NaN</td>\n",
       "    </tr>\n",
       "    <tr>\n",
       "      <th>...</th>\n",
       "      <td>...</td>\n",
       "      <td>...</td>\n",
       "      <td>...</td>\n",
       "      <td>...</td>\n",
       "      <td>...</td>\n",
       "    </tr>\n",
       "    <tr>\n",
       "      <th>4249</th>\n",
       "      <td>22238</td>\n",
       "      <td>8</td>\n",
       "      <td>Just One @CAPS1 @CAPS2 can bring people togeth...</td>\n",
       "      <td>25238</td>\n",
       "      <td>NaN</td>\n",
       "    </tr>\n",
       "    <tr>\n",
       "      <th>4250</th>\n",
       "      <td>22239</td>\n",
       "      <td>8</td>\n",
       "      <td>@CAPS8 Was my first time going to the band ca...</td>\n",
       "      <td>25239</td>\n",
       "      <td>NaN</td>\n",
       "    </tr>\n",
       "    <tr>\n",
       "      <th>4251</th>\n",
       "      <td>22240</td>\n",
       "      <td>8</td>\n",
       "      <td>Laughter is one of the most important things i...</td>\n",
       "      <td>25240</td>\n",
       "      <td>NaN</td>\n",
       "    </tr>\n",
       "    <tr>\n",
       "      <th>4252</th>\n",
       "      <td>22241</td>\n",
       "      <td>8</td>\n",
       "      <td>A @CAPS1 Of @C...</td>\n",
       "      <td>25241</td>\n",
       "      <td>NaN</td>\n",
       "    </tr>\n",
       "    <tr>\n",
       "      <th>4253</th>\n",
       "      <td>22242</td>\n",
       "      <td>8</td>\n",
       "      <td>Good @CAPS1 In @LOCATION1.  Every year a sel...</td>\n",
       "      <td>25242</td>\n",
       "      <td>NaN</td>\n",
       "    </tr>\n",
       "  </tbody>\n",
       "</table>\n",
       "<p>4254 rows × 5 columns</p>\n",
       "</div>"
      ],
      "text/plain": [
       "      essay_id  essay_set                                              essay  \\\n",
       "0         2383          1  I believe that computers have a positive effec...   \n",
       "1         2384          1  Dear @CAPS1, I know some problems have came up...   \n",
       "2         2385          1  Dear to whom it @MONTH1 concern, Computers are...   \n",
       "3         2386          1  Dear @CAPS1 @CAPS2, @CAPS3 has come to my atte...   \n",
       "4         2387          1  Dear Local newspaper, I think that people have...   \n",
       "...        ...        ...                                                ...   \n",
       "4249     22238          8  Just One @CAPS1 @CAPS2 can bring people togeth...   \n",
       "4250     22239          8   @CAPS8 Was my first time going to the band ca...   \n",
       "4251     22240          8  Laughter is one of the most important things i...   \n",
       "4252     22241          8                                  A @CAPS1 Of @C...   \n",
       "4253     22242          8    Good @CAPS1 In @LOCATION1.  Every year a sel...   \n",
       "\n",
       "      domain1_predictionid  domain2_predictionid  \n",
       "0                     2383                   NaN  \n",
       "1                     2384                   NaN  \n",
       "2                     2385                   NaN  \n",
       "3                     2386                   NaN  \n",
       "4                     2387                   NaN  \n",
       "...                    ...                   ...  \n",
       "4249                 25238                   NaN  \n",
       "4250                 25239                   NaN  \n",
       "4251                 25240                   NaN  \n",
       "4252                 25241                   NaN  \n",
       "4253                 25242                   NaN  \n",
       "\n",
       "[4254 rows x 5 columns]"
      ]
     },
     "execution_count": 95,
     "metadata": {},
     "output_type": "execute_result"
    }
   ],
   "source": [
    "df_test"
   ]
  },
  {
   "cell_type": "markdown",
   "id": "ea08a488-8994-49bd-9c3c-141e9516ade5",
   "metadata": {},
   "source": [
    "## Splitting the Test Set"
   ]
  },
  {
   "cell_type": "code",
   "execution_count": 99,
   "id": "8fc50c94-9af5-436a-8870-3330957852bb",
   "metadata": {},
   "outputs": [],
   "source": [
    "from sklearn.model_selection import train_test_split\n",
    "\n",
    "train, test = train_test_split(df_rescaled, test_size=0.2, stratify=df_rescaled['essay_set'], random_state=42)\n"
   ]
  },
  {
   "cell_type": "code",
   "execution_count": 106,
   "id": "bf315ef2-03b5-437e-b3c4-02dba5f2632a",
   "metadata": {},
   "outputs": [],
   "source": [
    "# train['essay_set'].value_counts(normalize=True), test['essay_set'].value_counts(normalize=True)"
   ]
  },
  {
   "cell_type": "code",
   "execution_count": 110,
   "id": "f8ffcec2-0c54-4386-be3a-a579386eb269",
   "metadata": {},
   "outputs": [
    {
     "data": {
      "text/plain": [
       "'../data/processed/sat_train/train_full_processed.csv'"
      ]
     },
     "execution_count": 110,
     "metadata": {},
     "output_type": "execute_result"
    }
   ],
   "source": [
    "train_full_out_fp = '../data/processed/sat_train/train_full_processed.csv'\n",
    "train_full_out_fp"
   ]
  },
  {
   "cell_type": "code",
   "execution_count": 107,
   "id": "78cdbc24-ec37-46c6-9b76-496ba88f5ddf",
   "metadata": {},
   "outputs": [],
   "source": [
    "train.to_csv(train_full_out_fp,index=False)"
   ]
  },
  {
   "cell_type": "code",
   "execution_count": 111,
   "id": "d824b533-2d9f-4ba2-a20f-9eba4ea2af5c",
   "metadata": {},
   "outputs": [],
   "source": [
    "test_full_out_fp = '../data/processed/sat_test/test_full_processed.csv'"
   ]
  },
  {
   "cell_type": "code",
   "execution_count": 112,
   "id": "fdcdb169-9633-4211-a30b-f96f5f861e10",
   "metadata": {},
   "outputs": [],
   "source": [
    "test.to_csv(test_full_out_fp,index=False)"
   ]
  },
  {
   "cell_type": "markdown",
   "id": "8ce62069-d446-4c16-9d2a-ad3ac16d3579",
   "metadata": {},
   "source": [
    "## Chunking"
   ]
  },
  {
   "cell_type": "code",
   "execution_count": 226,
   "id": "d9815a2c-d199-474d-ac7d-43c418d17c17",
   "metadata": {},
   "outputs": [
    {
     "data": {
      "text/plain": [
       "6578     1000\n",
       "2936     2358\n",
       "4209      361\n",
       "10059    1535\n",
       "7855      409\n",
       "         ... \n",
       "7307       83\n",
       "11238    1530\n",
       "8405      736\n",
       "1866     1899\n",
       "7692      585\n",
       "Name: essay, Length: 10382, dtype: int64"
      ]
     },
     "execution_count": 226,
     "metadata": {},
     "output_type": "execute_result"
    }
   ],
   "source": [
    "train.essay.apply(len)"
   ]
  },
  {
   "cell_type": "code",
   "execution_count": 227,
   "id": "2e804f60-898b-4f96-8639-1c0e3c58e85f",
   "metadata": {},
   "outputs": [],
   "source": [
    "train_chunker = Chunker(train)"
   ]
  },
  {
   "cell_type": "code",
   "execution_count": 228,
   "id": "9895b4a4-8be2-455a-a02a-7684458f54b0",
   "metadata": {},
   "outputs": [
    {
     "data": {
      "text/html": [
       "<div>\n",
       "<style scoped>\n",
       "    .dataframe tbody tr th:only-of-type {\n",
       "        vertical-align: middle;\n",
       "    }\n",
       "\n",
       "    .dataframe tbody tr th {\n",
       "        vertical-align: top;\n",
       "    }\n",
       "\n",
       "    .dataframe thead th {\n",
       "        text-align: right;\n",
       "    }\n",
       "</style>\n",
       "<table border=\"1\" class=\"dataframe\">\n",
       "  <thead>\n",
       "    <tr style=\"text-align: right;\">\n",
       "      <th></th>\n",
       "      <th>essay_id</th>\n",
       "      <th>essay_set</th>\n",
       "      <th>essay</th>\n",
       "      <th>rescaled_score</th>\n",
       "      <th>low_med_hi</th>\n",
       "      <th>low_med_hi_numeric</th>\n",
       "    </tr>\n",
       "  </thead>\n",
       "  <tbody>\n",
       "    <tr>\n",
       "      <th>0</th>\n",
       "      <td>10135</td>\n",
       "      <td>4</td>\n",
       "      <td>The reason why the author concludes the story ...</td>\n",
       "      <td>7.0</td>\n",
       "      <td>medium</td>\n",
       "      <td>2</td>\n",
       "    </tr>\n",
       "    <tr>\n",
       "      <th>1</th>\n",
       "      <td>4131</td>\n",
       "      <td>2</td>\n",
       "      <td>Would you censor the @CAPS1? i @CAPS2 i sure w...</td>\n",
       "      <td>4.6</td>\n",
       "      <td>low</td>\n",
       "      <td>1</td>\n",
       "    </tr>\n",
       "    <tr>\n",
       "      <th>2</th>\n",
       "      <td>4131</td>\n",
       "      <td>2</td>\n",
       "      <td>Throught out the story the @CAPS5 gives the bo...</td>\n",
       "      <td>4.6</td>\n",
       "      <td>low</td>\n",
       "      <td>1</td>\n",
       "    </tr>\n",
       "    <tr>\n",
       "      <th>3</th>\n",
       "      <td>4131</td>\n",
       "      <td>2</td>\n",
       "      <td>Why?! The @CAPS1 for example is just a book fu...</td>\n",
       "      <td>4.6</td>\n",
       "      <td>low</td>\n",
       "      <td>1</td>\n",
       "    </tr>\n",
       "    <tr>\n",
       "      <th>4</th>\n",
       "      <td>4131</td>\n",
       "      <td>2</td>\n",
       "      <td>Thanks to a close friend. @CAPS8 could also be...</td>\n",
       "      <td>4.6</td>\n",
       "      <td>low</td>\n",
       "      <td>1</td>\n",
       "    </tr>\n",
       "    <tr>\n",
       "      <th>...</th>\n",
       "      <td>...</td>\n",
       "      <td>...</td>\n",
       "      <td>...</td>\n",
       "      <td>...</td>\n",
       "      <td>...</td>\n",
       "      <td>...</td>\n",
       "    </tr>\n",
       "    <tr>\n",
       "      <th>17532</th>\n",
       "      <td>13151</td>\n",
       "      <td>5</td>\n",
       "      <td>The mood created by the author in this memoir ...</td>\n",
       "      <td>5.5</td>\n",
       "      <td>medium</td>\n",
       "      <td>2</td>\n",
       "    </tr>\n",
       "    <tr>\n",
       "      <th>17533</th>\n",
       "      <td>3061</td>\n",
       "      <td>2</td>\n",
       "      <td>Dear Katherine Paterson, Do you believe that c...</td>\n",
       "      <td>4.6</td>\n",
       "      <td>low</td>\n",
       "      <td>1</td>\n",
       "    </tr>\n",
       "    <tr>\n",
       "      <th>17534</th>\n",
       "      <td>3061</td>\n",
       "      <td>2</td>\n",
       "      <td>Either way I think that they shouldn't remove ...</td>\n",
       "      <td>4.6</td>\n",
       "      <td>low</td>\n",
       "      <td>1</td>\n",
       "    </tr>\n",
       "    <tr>\n",
       "      <th>17535</th>\n",
       "      <td>3061</td>\n",
       "      <td>2</td>\n",
       "      <td>Just because that single person doesn't like t...</td>\n",
       "      <td>4.6</td>\n",
       "      <td>low</td>\n",
       "      <td>1</td>\n",
       "    </tr>\n",
       "    <tr>\n",
       "      <th>17536</th>\n",
       "      <td>12438</td>\n",
       "      <td>5</td>\n",
       "      <td>In the excerpt by Narciso Rodriguez, the mood ...</td>\n",
       "      <td>5.5</td>\n",
       "      <td>medium</td>\n",
       "      <td>2</td>\n",
       "    </tr>\n",
       "  </tbody>\n",
       "</table>\n",
       "<p>17537 rows × 6 columns</p>\n",
       "</div>"
      ],
      "text/plain": [
       "       essay_id  essay_set                                              essay  \\\n",
       "0         10135          4  The reason why the author concludes the story ...   \n",
       "1          4131          2  Would you censor the @CAPS1? i @CAPS2 i sure w...   \n",
       "2          4131          2  Throught out the story the @CAPS5 gives the bo...   \n",
       "3          4131          2  Why?! The @CAPS1 for example is just a book fu...   \n",
       "4          4131          2  Thanks to a close friend. @CAPS8 could also be...   \n",
       "...         ...        ...                                                ...   \n",
       "17532     13151          5  The mood created by the author in this memoir ...   \n",
       "17533      3061          2  Dear Katherine Paterson, Do you believe that c...   \n",
       "17534      3061          2  Either way I think that they shouldn't remove ...   \n",
       "17535      3061          2  Just because that single person doesn't like t...   \n",
       "17536     12438          5  In the excerpt by Narciso Rodriguez, the mood ...   \n",
       "\n",
       "       rescaled_score low_med_hi  low_med_hi_numeric  \n",
       "0                 7.0     medium                   2  \n",
       "1                 4.6        low                   1  \n",
       "2                 4.6        low                   1  \n",
       "3                 4.6        low                   1  \n",
       "4                 4.6        low                   1  \n",
       "...               ...        ...                 ...  \n",
       "17532             5.5     medium                   2  \n",
       "17533             4.6        low                   1  \n",
       "17534             4.6        low                   1  \n",
       "17535             4.6        low                   1  \n",
       "17536             5.5     medium                   2  \n",
       "\n",
       "[17537 rows x 6 columns]"
      ]
     },
     "execution_count": 228,
     "metadata": {},
     "output_type": "execute_result"
    }
   ],
   "source": [
    "train_chunker.process_essays(min_length=95, max_length=210)"
   ]
  },
  {
   "cell_type": "code",
   "execution_count": 220,
   "id": "f99fec95-80cf-4b1c-851a-a7b2df2b93af",
   "metadata": {},
   "outputs": [
    {
     "data": {
      "text/plain": [
       "16530"
      ]
     },
     "execution_count": 220,
     "metadata": {},
     "output_type": "execute_result"
    }
   ],
   "source": [
    "16530"
   ]
  },
  {
   "cell_type": "code",
   "execution_count": 229,
   "id": "91f684a9-c412-402f-9a8c-cf2c0fcdd518",
   "metadata": {},
   "outputs": [
    {
     "data": {
      "text/plain": [
       "(95, 226)"
      ]
     },
     "execution_count": 229,
     "metadata": {},
     "output_type": "execute_result"
    }
   ],
   "source": [
    "train_chunker.chunked_df['essay'].str.split(' ').apply(len).min(), train_chunker.chunked_df['essay'].str.split(' ').apply(len).max()"
   ]
  },
  {
   "cell_type": "code",
   "execution_count": 230,
   "id": "b09ffcf3-8afd-4816-8603-066e5de3febe",
   "metadata": {},
   "outputs": [
    {
     "data": {
      "text/plain": [
       "(18, 1776)"
      ]
     },
     "execution_count": 230,
     "metadata": {},
     "output_type": "execute_result"
    }
   ],
   "source": [
    "train_chunker.chunked_df['essay'].str.split(' ').apply(len).argmin(), train_chunker.chunked_df['essay'].str.split(' ').apply(len).argmax()"
   ]
  },
  {
   "cell_type": "code",
   "execution_count": 234,
   "id": "4904437d-4efe-4623-bb84-00509c621cba",
   "metadata": {},
   "outputs": [
    {
     "data": {
      "text/plain": [
       "essay_id                                                           4352\n",
       "essay_set                                                             2\n",
       "essay                 Everyone has there own way of writing and ther...\n",
       "rescaled_score                                                      6.4\n",
       "low_med_hi                                                       medium\n",
       "low_med_hi_numeric                                                    2\n",
       "Name: 18, dtype: object"
      ]
     },
     "execution_count": 234,
     "metadata": {},
     "output_type": "execute_result"
    }
   ],
   "source": [
    "train_chunker.chunked_df.loc[18,:]"
   ]
  },
  {
   "cell_type": "code",
   "execution_count": 184,
   "id": "298b3c11-0947-403e-949c-66ad6a69ba59",
   "metadata": {},
   "outputs": [],
   "source": [
    "l = '@CAPS5 were all at my party having a great time right @CAPS5 my cousin @PERSON1 says \"@CAPS5 who wants to play the game @CAPS4? \" @CAPS6 we all say well whats that?\" @CAPS6 he goes over all the rules like a said before @CAPS15 we say \"lets play.\" @CAPS5 me @CAPS15 my friend @CAPS9 are running away @CAPS15 all of the sudden we start hearing my cousins @CAPS4 noise that means he coming @CAPS15 he freaked out @CAPS15 ran away @CAPS6 when he leaves you @CAPS14 hear the screeching scream come out @CAPS15 you here his balloon pop that means that he got out @CAPS15 were all @CAPS14 laughing because when he flew he launched about @NUM3 feet backwards it was the funniest thing ever because when i got over there he was still on the ground @CAPS15 everyone @CAPS14 it trying to breathe i swear i think everyone was about to wet them selves @CAPS15 the probably would\\'ve laughed some more if it wasn\\'t for the game @CAPS15 @CAPS6 @CAPS9 got up @CAPS15 started chasing people with my cousin @PERSON1 @CAPS15 the rest of us @CAPS14 ran out of there as quickly as possible @CAPS15 yet again you here my cousin making his @CAPS4 noise @CAPS15 people running @CAPS15 screaming @CAPS15 my friend make trying to make the same @CAPS4 noise but cant @CAPS15 one by one i hear the balloons popping @CAPS15 soon i was the last one left @CAPS15 i was gonna give up @CAPS5 i am @CAPS14 getting chased @CAPS15 chased until i am completely out of breath @CAPS15 @CAPS6 one of my friends @ORGANIZATION1 comes up in front of me @CAPS15 i @CAPS14 said \"I don\\'t care @CAPS14 get me out i @CAPS14 wanna lay down.\" @CAPS5 he took the balloon @CAPS15 @CAPS14 popped it @CAPS15 i asked \"@CAPS11 i take a nap?\" @CAPS15 he said \"@CAPS12 because we have to get ready for the next round @CAPS5 you better rest up quick or you\\'ll be dogging.\" @CAPS5 i @CAPS14 rested up as much as i could before we got everyone straped up for the next game i was hoping to get some kind of reward for winning the very first game of @CAPS4 but @CAPS12 my cousin @PERSON1 had to be a samrt alic about it @CAPS15 say\" @CAPS14 getting to play the game isn\\'t a big enough reward for you stingy!\"@CAPS15 as always everyone starts @CAPS14 busting up laughing at every single little thing that my cousin @PERSON1 does but i do have to admit that he is one of the funniest guys that i have ever met.'.split( )"
   ]
  },
  {
   "cell_type": "code",
   "execution_count": 235,
   "id": "69ee3767-0c32-49c5-b21b-df33bde8b1db",
   "metadata": {},
   "outputs": [
    {
     "data": {
      "text/plain": [
       "'../data/processed/sat_train/train_chunked_processed.csv'"
      ]
     },
     "execution_count": 235,
     "metadata": {},
     "output_type": "execute_result"
    }
   ],
   "source": [
    "train_chunked_out_fp = '../data/processed/sat_train/train_chunked_processed.csv'\n",
    "train_chunked_out_fp"
   ]
  },
  {
   "cell_type": "code",
   "execution_count": 236,
   "id": "adc26f50-023b-41b7-ae72-62e1dafc9cbb",
   "metadata": {},
   "outputs": [],
   "source": [
    "train_chunker.chunked_df.to_csv(train_chunked_out_fp,index=False)"
   ]
  },
  {
   "cell_type": "markdown",
   "id": "498c691e-09fa-42eb-86ab-9ea47722dfc3",
   "metadata": {},
   "source": [
    "## chunked test"
   ]
  },
  {
   "cell_type": "code",
   "execution_count": 237,
   "id": "9d2d8d62-cea8-44a6-a7cd-24bd82cf0ca1",
   "metadata": {},
   "outputs": [
    {
     "data": {
      "text/html": [
       "<div>\n",
       "<style scoped>\n",
       "    .dataframe tbody tr th:only-of-type {\n",
       "        vertical-align: middle;\n",
       "    }\n",
       "\n",
       "    .dataframe tbody tr th {\n",
       "        vertical-align: top;\n",
       "    }\n",
       "\n",
       "    .dataframe thead th {\n",
       "        text-align: right;\n",
       "    }\n",
       "</style>\n",
       "<table border=\"1\" class=\"dataframe\">\n",
       "  <thead>\n",
       "    <tr style=\"text-align: right;\">\n",
       "      <th></th>\n",
       "      <th>essay_id</th>\n",
       "      <th>essay_set</th>\n",
       "      <th>essay</th>\n",
       "      <th>rescaled_score</th>\n",
       "      <th>low_med_hi</th>\n",
       "      <th>low_med_hi_numeric</th>\n",
       "    </tr>\n",
       "  </thead>\n",
       "  <tbody>\n",
       "    <tr>\n",
       "      <th>2579</th>\n",
       "      <td>3774</td>\n",
       "      <td>2</td>\n",
       "      <td>I disagree that certain material, books,movies...</td>\n",
       "      <td>4.600000</td>\n",
       "      <td>low</td>\n",
       "      <td>1</td>\n",
       "    </tr>\n",
       "    <tr>\n",
       "      <th>6011</th>\n",
       "      <td>9567</td>\n",
       "      <td>4</td>\n",
       "      <td>The author ended the story with that specific ...</td>\n",
       "      <td>10.000000</td>\n",
       "      <td>high</td>\n",
       "      <td>3</td>\n",
       "    </tr>\n",
       "    <tr>\n",
       "      <th>5727</th>\n",
       "      <td>9282</td>\n",
       "      <td>4</td>\n",
       "      <td>I feel the author concludes the story with the...</td>\n",
       "      <td>7.000000</td>\n",
       "      <td>medium</td>\n",
       "      <td>2</td>\n",
       "    </tr>\n",
       "    <tr>\n",
       "      <th>8924</th>\n",
       "      <td>14872</td>\n",
       "      <td>6</td>\n",
       "      <td>Although Al Smith had expected the mooring mas...</td>\n",
       "      <td>7.750000</td>\n",
       "      <td>high</td>\n",
       "      <td>3</td>\n",
       "    </tr>\n",
       "    <tr>\n",
       "      <th>7834</th>\n",
       "      <td>12580</td>\n",
       "      <td>5</td>\n",
       "      <td>In the memoir there were actually two main moo...</td>\n",
       "      <td>3.250000</td>\n",
       "      <td>low</td>\n",
       "      <td>1</td>\n",
       "    </tr>\n",
       "    <tr>\n",
       "      <th>...</th>\n",
       "      <td>...</td>\n",
       "      <td>...</td>\n",
       "      <td>...</td>\n",
       "      <td>...</td>\n",
       "      <td>...</td>\n",
       "      <td>...</td>\n",
       "    </tr>\n",
       "    <tr>\n",
       "      <th>835</th>\n",
       "      <td>838</td>\n",
       "      <td>1</td>\n",
       "      <td>Dear Newspaper writers, I belev that difrent w...</td>\n",
       "      <td>3.700000</td>\n",
       "      <td>low</td>\n",
       "      <td>1</td>\n",
       "    </tr>\n",
       "    <tr>\n",
       "      <th>10710</th>\n",
       "      <td>17861</td>\n",
       "      <td>7</td>\n",
       "      <td>One when I was patient was when we were going ...</td>\n",
       "      <td>6.727273</td>\n",
       "      <td>medium</td>\n",
       "      <td>2</td>\n",
       "    </tr>\n",
       "    <tr>\n",
       "      <th>11966</th>\n",
       "      <td>19248</td>\n",
       "      <td>7</td>\n",
       "      <td>Have you ever had to be patient before? I have...</td>\n",
       "      <td>8.772727</td>\n",
       "      <td>high</td>\n",
       "      <td>3</td>\n",
       "    </tr>\n",
       "    <tr>\n",
       "      <th>5926</th>\n",
       "      <td>9482</td>\n",
       "      <td>4</td>\n",
       "      <td>The author of “Winter Hibiscus” concludes the ...</td>\n",
       "      <td>7.000000</td>\n",
       "      <td>medium</td>\n",
       "      <td>2</td>\n",
       "    </tr>\n",
       "    <tr>\n",
       "      <th>2331</th>\n",
       "      <td>3526</td>\n",
       "      <td>2</td>\n",
       "      <td>Do you think that certain books, music, magazi...</td>\n",
       "      <td>4.600000</td>\n",
       "      <td>low</td>\n",
       "      <td>1</td>\n",
       "    </tr>\n",
       "  </tbody>\n",
       "</table>\n",
       "<p>2596 rows × 6 columns</p>\n",
       "</div>"
      ],
      "text/plain": [
       "       essay_id  essay_set                                              essay  \\\n",
       "2579       3774          2  I disagree that certain material, books,movies...   \n",
       "6011       9567          4  The author ended the story with that specific ...   \n",
       "5727       9282          4  I feel the author concludes the story with the...   \n",
       "8924      14872          6  Although Al Smith had expected the mooring mas...   \n",
       "7834      12580          5  In the memoir there were actually two main moo...   \n",
       "...         ...        ...                                                ...   \n",
       "835         838          1  Dear Newspaper writers, I belev that difrent w...   \n",
       "10710     17861          7  One when I was patient was when we were going ...   \n",
       "11966     19248          7  Have you ever had to be patient before? I have...   \n",
       "5926       9482          4  The author of “Winter Hibiscus” concludes the ...   \n",
       "2331       3526          2  Do you think that certain books, music, magazi...   \n",
       "\n",
       "       rescaled_score low_med_hi low_med_hi_numeric  \n",
       "2579         4.600000        low                  1  \n",
       "6011        10.000000       high                  3  \n",
       "5727         7.000000     medium                  2  \n",
       "8924         7.750000       high                  3  \n",
       "7834         3.250000        low                  1  \n",
       "...               ...        ...                ...  \n",
       "835          3.700000        low                  1  \n",
       "10710        6.727273     medium                  2  \n",
       "11966        8.772727       high                  3  \n",
       "5926         7.000000     medium                  2  \n",
       "2331         4.600000        low                  1  \n",
       "\n",
       "[2596 rows x 6 columns]"
      ]
     },
     "execution_count": 237,
     "metadata": {},
     "output_type": "execute_result"
    }
   ],
   "source": [
    "test"
   ]
  },
  {
   "cell_type": "code",
   "execution_count": 238,
   "id": "d9d97378-186d-4a80-9bc8-bfad479c085a",
   "metadata": {},
   "outputs": [
    {
     "data": {
      "text/html": [
       "<div>\n",
       "<style scoped>\n",
       "    .dataframe tbody tr th:only-of-type {\n",
       "        vertical-align: middle;\n",
       "    }\n",
       "\n",
       "    .dataframe tbody tr th {\n",
       "        vertical-align: top;\n",
       "    }\n",
       "\n",
       "    .dataframe thead th {\n",
       "        text-align: right;\n",
       "    }\n",
       "</style>\n",
       "<table border=\"1\" class=\"dataframe\">\n",
       "  <thead>\n",
       "    <tr style=\"text-align: right;\">\n",
       "      <th></th>\n",
       "      <th>essay_id</th>\n",
       "      <th>essay_set</th>\n",
       "      <th>essay</th>\n",
       "      <th>rescaled_score</th>\n",
       "      <th>low_med_hi</th>\n",
       "      <th>low_med_hi_numeric</th>\n",
       "    </tr>\n",
       "  </thead>\n",
       "  <tbody>\n",
       "    <tr>\n",
       "      <th>0</th>\n",
       "      <td>3774</td>\n",
       "      <td>2</td>\n",
       "      <td>I disagree that certain material, books,movies...</td>\n",
       "      <td>4.600000</td>\n",
       "      <td>low</td>\n",
       "      <td>1.0</td>\n",
       "    </tr>\n",
       "    <tr>\n",
       "      <th>1</th>\n",
       "      <td>3774</td>\n",
       "      <td>2</td>\n",
       "      <td>for them for many reasons. Ther should be noth...</td>\n",
       "      <td>4.600000</td>\n",
       "      <td>low</td>\n",
       "      <td>1.0</td>\n",
       "    </tr>\n",
       "    <tr>\n",
       "      <th>2</th>\n",
       "      <td>3774</td>\n",
       "      <td>2</td>\n",
       "      <td>A parent should keep a close eye on what their...</td>\n",
       "      <td>4.600000</td>\n",
       "      <td>low</td>\n",
       "      <td>1.0</td>\n",
       "    </tr>\n",
       "    <tr>\n",
       "      <th>3</th>\n",
       "      <td>9567</td>\n",
       "      <td>4</td>\n",
       "      <td>The author ended the story with that specific ...</td>\n",
       "      <td>10.000000</td>\n",
       "      <td>high</td>\n",
       "      <td>3.0</td>\n",
       "    </tr>\n",
       "    <tr>\n",
       "      <th>4</th>\n",
       "      <td>9282</td>\n",
       "      <td>4</td>\n",
       "      <td>I feel the author concludes the story with the...</td>\n",
       "      <td>7.000000</td>\n",
       "      <td>medium</td>\n",
       "      <td>2.0</td>\n",
       "    </tr>\n",
       "    <tr>\n",
       "      <th>...</th>\n",
       "      <td>...</td>\n",
       "      <td>...</td>\n",
       "      <td>...</td>\n",
       "      <td>...</td>\n",
       "      <td>...</td>\n",
       "      <td>...</td>\n",
       "    </tr>\n",
       "    <tr>\n",
       "      <th>4407</th>\n",
       "      <td>19248</td>\n",
       "      <td>7</td>\n",
       "      <td>I was thinking in my haad A little it’s been a...</td>\n",
       "      <td>8.772727</td>\n",
       "      <td>high</td>\n",
       "      <td>3.0</td>\n",
       "    </tr>\n",
       "    <tr>\n",
       "      <th>4408</th>\n",
       "      <td>9482</td>\n",
       "      <td>4</td>\n",
       "      <td>The author of “Winter Hibiscus” concludes the ...</td>\n",
       "      <td>7.000000</td>\n",
       "      <td>medium</td>\n",
       "      <td>2.0</td>\n",
       "    </tr>\n",
       "    <tr>\n",
       "      <th>4409</th>\n",
       "      <td>9482</td>\n",
       "      <td>4</td>\n",
       "      <td>a small shrub with waxy leaves and dainty flow...</td>\n",
       "      <td>7.000000</td>\n",
       "      <td>medium</td>\n",
       "      <td>2.0</td>\n",
       "    </tr>\n",
       "    <tr>\n",
       "      <th>4410</th>\n",
       "      <td>3526</td>\n",
       "      <td>2</td>\n",
       "      <td>Do you think that certain books, music, magazi...</td>\n",
       "      <td>4.600000</td>\n",
       "      <td>low</td>\n",
       "      <td>1.0</td>\n",
       "    </tr>\n",
       "    <tr>\n",
       "      <th>4411</th>\n",
       "      <td>3526</td>\n",
       "      <td>2</td>\n",
       "      <td>You want everyone to go to college and be doct...</td>\n",
       "      <td>4.600000</td>\n",
       "      <td>low</td>\n",
       "      <td>1.0</td>\n",
       "    </tr>\n",
       "  </tbody>\n",
       "</table>\n",
       "<p>4412 rows × 6 columns</p>\n",
       "</div>"
      ],
      "text/plain": [
       "      essay_id  essay_set                                              essay  \\\n",
       "0         3774          2  I disagree that certain material, books,movies...   \n",
       "1         3774          2  for them for many reasons. Ther should be noth...   \n",
       "2         3774          2  A parent should keep a close eye on what their...   \n",
       "3         9567          4  The author ended the story with that specific ...   \n",
       "4         9282          4  I feel the author concludes the story with the...   \n",
       "...        ...        ...                                                ...   \n",
       "4407     19248          7  I was thinking in my haad A little it’s been a...   \n",
       "4408      9482          4  The author of “Winter Hibiscus” concludes the ...   \n",
       "4409      9482          4  a small shrub with waxy leaves and dainty flow...   \n",
       "4410      3526          2  Do you think that certain books, music, magazi...   \n",
       "4411      3526          2  You want everyone to go to college and be doct...   \n",
       "\n",
       "      rescaled_score low_med_hi  low_med_hi_numeric  \n",
       "0           4.600000        low                 1.0  \n",
       "1           4.600000        low                 1.0  \n",
       "2           4.600000        low                 1.0  \n",
       "3          10.000000       high                 3.0  \n",
       "4           7.000000     medium                 2.0  \n",
       "...              ...        ...                 ...  \n",
       "4407        8.772727       high                 3.0  \n",
       "4408        7.000000     medium                 2.0  \n",
       "4409        7.000000     medium                 2.0  \n",
       "4410        4.600000        low                 1.0  \n",
       "4411        4.600000        low                 1.0  \n",
       "\n",
       "[4412 rows x 6 columns]"
      ]
     },
     "execution_count": 238,
     "metadata": {},
     "output_type": "execute_result"
    }
   ],
   "source": [
    "test_chunker = Chunker(test)\n",
    "test_chunker.process_essays(min_length=95, max_length=210)"
   ]
  },
  {
   "cell_type": "code",
   "execution_count": 239,
   "id": "df93376b-6647-4c32-97a8-30e98e3ed699",
   "metadata": {},
   "outputs": [
    {
     "data": {
      "text/plain": [
       "(95, 209)"
      ]
     },
     "execution_count": 239,
     "metadata": {},
     "output_type": "execute_result"
    }
   ],
   "source": [
    "test_chunker.chunked_df['essay'].str.split(' ').apply(len).min(), test_chunker.chunked_df['essay'].str.split(' ').apply(len).max()"
   ]
  },
  {
   "cell_type": "code",
   "execution_count": 240,
   "id": "cab73af8-7efc-443c-bfe5-33066e646118",
   "metadata": {},
   "outputs": [],
   "source": [
    "test_chunked_out_fp = '../data/processed/sat_test/test_chunked_processed.csv'\n",
    "test_chunked_out_fp\n",
    "test_chunker.chunked_df.to_csv(test_chunked_out_fp,index=False)"
   ]
  },
  {
   "cell_type": "code",
   "execution_count": null,
   "id": "5d36fe1a-e829-43fe-b4bd-300531f775b3",
   "metadata": {},
   "outputs": [],
   "source": []
  }
 ],
 "metadata": {
  "kernelspec": {
   "display_name": "Python 3 (ipykernel)",
   "language": "python",
   "name": "python3"
  },
  "language_info": {
   "codemirror_mode": {
    "name": "ipython",
    "version": 3
   },
   "file_extension": ".py",
   "mimetype": "text/x-python",
   "name": "python",
   "nbconvert_exporter": "python",
   "pygments_lexer": "ipython3",
   "version": "3.10.6"
  }
 },
 "nbformat": 4,
 "nbformat_minor": 5
}
